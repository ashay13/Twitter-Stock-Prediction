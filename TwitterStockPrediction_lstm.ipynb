{
 "cells": [
  {
   "cell_type": "code",
   "execution_count": 29,
   "metadata": {},
   "outputs": [],
   "source": [
    "from keras.layers.core import Dense, Dropout, SpatialDropout1D\n",
    "from keras.layers import Bidirectional\n",
    "from keras.models import Sequential\n",
    "from keras.preprocessing.sequence import pad_sequences\n",
    "from keras.utils import np_utils\n",
    "from sklearn.model_selection import train_test_split\n",
    "import collections\n",
    "import matplotlib.pyplot as plt\n",
    "import nltk\n",
    "import numpy as np\n",
    "import pandas as pd\n",
    "from sklearn.preprocessing import LabelBinarizer\n",
    "from numpy import array\n",
    "from keras.layers.embeddings import Embedding\n",
    "from keras.layers.convolutional import Conv1D\n",
    "from keras.layers.pooling import GlobalMaxPooling1D,MaxPooling1D\n",
    "from keras.layers.recurrent import LSTM\n",
    "from keras.preprocessing.text import Tokenizer\n",
    "from keras.callbacks import ReduceLROnPlateau, ModelCheckpoint, EarlyStopping"
   ]
  },
  {
   "cell_type": "code",
   "execution_count": 2,
   "metadata": {},
   "outputs": [],
   "source": [
    "INPUT_FILE = \"C:/Users/meeta/Desktop/Work/TwitterStockPrediction/data.csv\"\n",
    "GLOVE_MODEL = \"C:/Users/meeta/Desktop/Work/GlobalEnglish/glove.6B.100d.txt\"\n",
    "MAX_SEQUENCE_LENGTH = 100\n",
    "VOCAB_SIZE = 20000\n",
    "EMBED_SIZE = 100\n",
    "BATCH_SIZE = 256\n",
    "NUM_EPOCHS = 10\n",
    "NUM_FILTERS = 32\n",
    "NUM_WORDS = 3"
   ]
  },
  {
   "cell_type": "code",
   "execution_count": 3,
   "metadata": {},
   "outputs": [
    {
     "name": "stdout",
     "output_type": "stream",
     "text": [
      "reading data...\n",
      "18994\n"
     ]
    }
   ],
   "source": [
    "print(\"reading data...\")\n",
    "df = pd.read_csv(INPUT_FILE)\n",
    "print(len(df))\n",
    "#df = df[np.isfinite(df['domain1_score'])]"
   ]
  },
  {
   "cell_type": "code",
   "execution_count": 4,
   "metadata": {},
   "outputs": [
    {
     "name": "stdout",
     "output_type": "stream",
     "text": [
      "Found 400000 word vectors.\n"
     ]
    }
   ],
   "source": [
    "embeddings_index = {}\n",
    "f = open(GLOVE_MODEL, encoding=\"utf8\")\n",
    "for line in f:\n",
    "    values = line.split()\n",
    "    word = values[0]\n",
    "    coefs = np.asarray(values[1:], dtype='float32')\n",
    "    embeddings_index[word] = coefs\n",
    "f.close()\n",
    "\n",
    "print('Found %s word vectors.' % len(embeddings_index))"
   ]
  },
  {
   "cell_type": "code",
   "execution_count": 5,
   "metadata": {},
   "outputs": [],
   "source": [
    "counter = collections.Counter()\n",
    "text = df.Tweet\n",
    "maxlen = 0\n",
    "for line in text:\n",
    "    sent = line.strip()\n",
    "    words = [x.lower() for x in nltk.word_tokenize(sent)]\n",
    "    if len(words) > maxlen:\n",
    "        maxlen = len(words)"
   ]
  },
  {
   "cell_type": "code",
   "execution_count": 6,
   "metadata": {},
   "outputs": [],
   "source": [
    "text = df.Tweet\n",
    "tokenizer = Tokenizer(VOCAB_SIZE)\n",
    "tokenizer.fit_on_texts(text)\n",
    "all_x = tokenizer.texts_to_sequences(text)"
   ]
  },
  {
   "cell_type": "code",
   "execution_count": 7,
   "metadata": {},
   "outputs": [
    {
     "name": "stdout",
     "output_type": "stream",
     "text": [
      "(18994, 92)\n"
     ]
    }
   ],
   "source": [
    "W = pad_sequences(all_x, maxlen=maxlen)\n",
    "sentiment = df.Sentiment.values.reshape((df.Sentiment.shape[0], 1))\n",
    "W = np.append(W, sentiment, 1)\n",
    "maxlen = maxlen + 1\n",
    "print(W.shape)"
   ]
  },
  {
   "cell_type": "code",
   "execution_count": 12,
   "metadata": {},
   "outputs": [
    {
     "name": "stdout",
     "output_type": "stream",
     "text": [
      "(18994, 93)\n"
     ]
    }
   ],
   "source": [
    "sp_5 = df['T-5'].values.reshape((df['T-5'].shape[0], 1))\n",
    "W = np.append(W, sp_5, 1)\n",
    "maxlen = maxlen + 1\n",
    "print(W.shape)"
   ]
  },
  {
   "cell_type": "code",
   "execution_count": 13,
   "metadata": {},
   "outputs": [
    {
     "name": "stdout",
     "output_type": "stream",
     "text": [
      "(18994, 94)\n"
     ]
    }
   ],
   "source": [
    "sp_4 = df['T-4'].values.reshape((df['T-4'].shape[0], 1))\n",
    "W = np.append(W, sp_4, 1)\n",
    "maxlen = maxlen + 1\n",
    "print(W.shape)"
   ]
  },
  {
   "cell_type": "code",
   "execution_count": 14,
   "metadata": {},
   "outputs": [
    {
     "name": "stdout",
     "output_type": "stream",
     "text": [
      "(18994, 95)\n"
     ]
    }
   ],
   "source": [
    "sp_3 = df['T-3'].values.reshape((df['T-3'].shape[0], 1))\n",
    "W = np.append(W, sp_3, 1)\n",
    "maxlen = maxlen + 1\n",
    "print(W.shape)"
   ]
  },
  {
   "cell_type": "code",
   "execution_count": 15,
   "metadata": {},
   "outputs": [
    {
     "name": "stdout",
     "output_type": "stream",
     "text": [
      "(18994, 96)\n"
     ]
    }
   ],
   "source": [
    "sp_2 = df['T-2'].values.reshape((df['T-2'].shape[0], 1))\n",
    "W = np.append(W, sp_2, 1)\n",
    "maxlen = maxlen + 1\n",
    "print(W.shape)"
   ]
  },
  {
   "cell_type": "code",
   "execution_count": 16,
   "metadata": {},
   "outputs": [
    {
     "name": "stdout",
     "output_type": "stream",
     "text": [
      "(18994, 97)\n"
     ]
    }
   ],
   "source": [
    "sp_1 = df['T-1'].values.reshape((df['T-1'].shape[0], 1))\n",
    "W = np.append(W, sp_1, 1)\n",
    "maxlen = maxlen + 1\n",
    "print(W.shape)"
   ]
  },
  {
   "cell_type": "code",
   "execution_count": 17,
   "metadata": {},
   "outputs": [
    {
     "name": "stdout",
     "output_type": "stream",
     "text": [
      "Converting labels to One Hot Vectors...\n"
     ]
    }
   ],
   "source": [
    "print(\"Converting labels to One Hot Vectors...\")\n",
    "Label = df.Label\n",
    "encoder = LabelBinarizer()\n",
    "#Y = encoder.fit_transform(score)\n",
    "Y = np_utils.to_categorical(Label)"
   ]
  },
  {
   "cell_type": "code",
   "execution_count": 18,
   "metadata": {},
   "outputs": [
    {
     "name": "stdout",
     "output_type": "stream",
     "text": [
      "Train-Test split\n",
      "(13295, 97) (5699, 97) (13295, 2) (5699, 2)\n"
     ]
    }
   ],
   "source": [
    "print(\"Train-Test split\")\n",
    "Xtrain, Xtest, Ytrain, Ytest = train_test_split(W, Y, test_size=0.3, random_state=42)\n",
    "print(Xtrain.shape, Xtest.shape, Ytrain.shape, Ytest.shape)"
   ]
  },
  {
   "cell_type": "code",
   "execution_count": 31,
   "metadata": {},
   "outputs": [
    {
     "name": "stdout",
     "output_type": "stream",
     "text": [
      "Train on 13295 samples, validate on 5699 samples\n",
      "Epoch 1/10\n",
      "13295/13295 [==============================] - 22s 2ms/step - loss: 0.6922 - acc: 0.5428 - val_loss: 0.6906 - val_acc: 0.5575\n",
      "\n",
      "Epoch 00001: val_acc improved from -inf to 0.55747, saving model to model_name\n",
      "Epoch 2/10\n",
      "13295/13295 [==============================] - 18s 1ms/step - loss: 0.6890 - acc: 0.5202 - val_loss: 0.6822 - val_acc: 0.5160\n",
      "\n",
      "Epoch 00002: val_acc did not improve\n",
      "Epoch 3/10\n",
      "13295/13295 [==============================] - 19s 1ms/step - loss: 0.6794 - acc: 0.4742 - val_loss: 0.6693 - val_acc: 0.5132\n",
      "\n",
      "Epoch 00003: val_acc did not improve\n",
      "Epoch 4/10\n",
      "13295/13295 [==============================] - 18s 1ms/step - loss: 0.6642 - acc: 0.5006 - val_loss: 0.6520 - val_acc: 0.6311\n",
      "\n",
      "Epoch 00004: val_acc improved from 0.55747 to 0.63108, saving model to model_name\n",
      "Epoch 5/10\n",
      "13295/13295 [==============================] - 19s 1ms/step - loss: 0.6443 - acc: 0.6103 - val_loss: 0.6363 - val_acc: 0.6444\n",
      "\n",
      "Epoch 00005: val_acc improved from 0.63108 to 0.64441, saving model to model_name\n",
      "Epoch 6/10\n",
      "13295/13295 [==============================] - 19s 1ms/step - loss: 0.6231 - acc: 0.6263 - val_loss: 0.6201 - val_acc: 0.6444\n",
      "\n",
      "Epoch 00006: val_acc did not improve\n",
      "Epoch 7/10\n",
      "13295/13295 [==============================] - 18s 1ms/step - loss: 0.5978 - acc: 0.6351 - val_loss: 0.6074 - val_acc: 0.6413\n",
      "\n",
      "Epoch 00007: val_acc did not improve\n",
      "Epoch 8/10\n",
      "13295/13295 [==============================] - 18s 1ms/step - loss: 0.5747 - acc: 0.6399 - val_loss: 0.5981 - val_acc: 0.6373\n",
      "\n",
      "Epoch 00008: val_acc did not improve\n",
      "Epoch 9/10\n",
      "13295/13295 [==============================] - 17s 1ms/step - loss: 0.5517 - acc: 0.6444 - val_loss: 0.5911 - val_acc: 0.6385\n",
      "\n",
      "Epoch 00009: val_acc did not improve\n",
      "Epoch 10/10\n",
      "13295/13295 [==============================] - 18s 1ms/step - loss: 0.5309 - acc: 0.6615 - val_loss: 0.5858 - val_acc: 0.7195\n",
      "\n",
      "Epoch 00010: val_acc improved from 0.64441 to 0.71951, saving model to model_name\n"
     ]
    }
   ],
   "source": [
    "model = Sequential()\n",
    "model.add(Embedding(VOCAB_SIZE, EMBED_SIZE, input_length=maxlen, trainable=True))\n",
    "model.add(Bidirectional(LSTM(2, return_sequences=True), input_shape=(maxlen, 100)))\n",
    "model.add(GlobalMaxPooling1D())\n",
    "model.add(Dropout(0.1))\n",
    "model.add(Dense(2, activation=\"relu\"))\n",
    "model.add(Dropout(0.1))\n",
    "model.add(Dense(2, activation=\"relu\"))\n",
    "model.add(Dropout(0.1))\n",
    "model.add(Dense(2, activation=\"sigmoid\"))\n",
    "\n",
    "#model.add(Conv1D(filters=NUM_FILTERS, kernel_size=NUM_WORDS, activation=\"relu\"))\n",
    "#model.add(MaxPooling1D(pool_size=2))\n",
    "#model.add(LSTM(maxlen))\n",
    "\n",
    "model.compile(optimizer=\"adam\", loss=\"binary_crossentropy\", metrics=[\"accuracy\"])\n",
    "\n",
    "reduceLR = ReduceLROnPlateau(monitor='val_loss', factor=0.1, patience=3, verbose=1, mode='auto')\n",
    "checkpoint = ModelCheckpoint(\"model_name\", monitor='val_acc', mode='auto', verbose=1, save_best_only=True)\n",
    "earlyStopping = EarlyStopping(monitor='val_acc', min_delta=0, patience=5, verbose=1)\n",
    "\n",
    "history = model.fit(Xtrain, Ytrain, batch_size=BATCH_SIZE, epochs=NUM_EPOCHS, validation_data=(Xtest, Ytest), callbacks=[checkpoint, earlyStopping, reduceLR])"
   ]
  },
  {
   "cell_type": "code",
   "execution_count": 32,
   "metadata": {},
   "outputs": [
    {
     "data": {
      "text/plain": [
       "Text(0.5,1,'Train vs Validation Accuracy')"
      ]
     },
     "execution_count": 32,
     "metadata": {},
     "output_type": "execute_result"
    },
    {
     "data": {
      "image/png": "[encoded data removed]",
      "text/plain": [
       "<matplotlib.figure.Figure at 0x157570b8ba8>"
      ]
     },
     "metadata": {},
     "output_type": "display_data"
    }
   ],
   "source": [
    "plt.plot(history.history['acc'])\n",
    "plt.plot(history.history['val_acc'])\n",
    "plt.xlabel('epochs')\n",
    "plt.ylabel('accuracy')\n",
    "plt.legend(['train set', 'validation set'], loc='best')\n",
    "plt.title('Train vs Validation Accuracy')"
   ]
  },
  {
   "cell_type": "code",
   "execution_count": 26,
   "metadata": {},
   "outputs": [
    {
     "name": "stdout",
     "output_type": "stream",
     "text": [
      "_________________________________________________________________\n",
      "Layer (type)                 Output Shape              Param #   \n",
      "=================================================================\n",
      "embedding_3 (Embedding)      (None, 97, 100)           2000000   \n",
      "_________________________________________________________________\n",
      "conv1d_3 (Conv1D)            (None, 95, 256)           77056     \n",
      "_________________________________________________________________\n",
      "max_pooling1d_3 (MaxPooling1 (None, 47, 256)           0         \n",
      "_________________________________________________________________\n",
      "lstm_3 (LSTM)                (None, 97)                137352    \n",
      "_________________________________________________________________\n",
      "dense_3 (Dense)              (None, 2)                 196       \n",
      "=================================================================\n",
      "Total params: 2,214,604\n",
      "Trainable params: 2,214,604\n",
      "Non-trainable params: 0\n",
      "_________________________________________________________________\n"
     ]
    }
   ],
   "source": [
    "model.summary()"
   ]
  },
  {
   "cell_type": "code",
   "execution_count": null,
   "metadata": {},
   "outputs": [],
   "source": []
  }
 ],
 "metadata": {
  "kernelspec": {
   "display_name": "Python 3",
   "language": "python",
   "name": "python3"
  },
  "language_info": {
   "codemirror_mode": {
    "name": "ipython",
    "version": 3
   },
   "file_extension": ".py",
   "mimetype": "text/x-python",
   "name": "python",
   "nbconvert_exporter": "python",
   "pygments_lexer": "ipython3",
   "version": "3.5.4"
  }
 },
 "nbformat": 4,
 "nbformat_minor": 2
}
